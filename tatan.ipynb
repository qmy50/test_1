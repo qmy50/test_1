{
 "cells": [
  {
   "cell_type": "code",
   "execution_count": 6,
   "id": "da9a4383",
   "metadata": {},
   "outputs": [
    {
     "name": "stdout",
     "output_type": "stream",
     "text": [
      "数据基本信息：\n",
      "<class 'pandas.core.frame.DataFrame'>\n",
      "RangeIndex: 891 entries, 0 to 890\n",
      "Data columns (total 12 columns):\n",
      " #   Column       Non-Null Count  Dtype  \n",
      "---  ------       --------------  -----  \n",
      " 0   PassengerId  891 non-null    int64  \n",
      " 1   Survived     891 non-null    int64  \n",
      " 2   Pclass       891 non-null    int64  \n",
      " 3   Name         891 non-null    object \n",
      " 4   Sex          891 non-null    object \n",
      " 5   Age          714 non-null    float64\n",
      " 6   SibSp        891 non-null    int64  \n",
      " 7   Parch        891 non-null    int64  \n",
      " 8   Ticket       891 non-null    object \n",
      " 9   Fare         891 non-null    float64\n",
      " 10  Cabin        204 non-null    object \n",
      " 11  Embarked     889 non-null    object \n",
      "dtypes: float64(2), int64(5), object(5)\n",
      "memory usage: 83.7+ KB\n",
      "Index(['PassengerId', 'Survived', 'Pclass', 'Name', 'Sex', 'Age', 'SibSp',\n",
      "       'Parch', 'Ticket', 'Fare', 'Cabin', 'Embarked'],\n",
      "      dtype='object')\n",
      "<class 'pandas.core.frame.DataFrame'>\n",
      "RangeIndex: 418 entries, 0 to 417\n",
      "Data columns (total 11 columns):\n",
      " #   Column       Non-Null Count  Dtype  \n",
      "---  ------       --------------  -----  \n",
      " 0   PassengerId  418 non-null    int64  \n",
      " 1   Pclass       418 non-null    int64  \n",
      " 2   Name         418 non-null    object \n",
      " 3   Sex          418 non-null    object \n",
      " 4   Age          332 non-null    float64\n",
      " 5   SibSp        418 non-null    int64  \n",
      " 6   Parch        418 non-null    int64  \n",
      " 7   Ticket       418 non-null    object \n",
      " 8   Fare         417 non-null    float64\n",
      " 9   Cabin        91 non-null     object \n",
      " 10  Embarked     418 non-null    object \n",
      "dtypes: float64(2), int64(4), object(5)\n",
      "memory usage: 36.0+ KB\n",
      "Index(['PassengerId', 'Pclass', 'Name', 'Sex', 'Age', 'SibSp', 'Parch',\n",
      "       'Ticket', 'Fare', 'Cabin', 'Embarked'],\n",
      "      dtype='object')\n"
     ]
    }
   ],
   "source": [
    "import pandas as pd\n",
    "import numpy as np\n",
    "import matplotlib.pyplot as plt\n",
    "import seaborn as sns\n",
    "\n",
    "# 加载数据\n",
    "df_train = pd.read_csv('train.csv')\n",
    "df_test = pd.read_csv('test.csv')\n",
    "print(\"数据基本信息：\")\n",
    "df_train.info()\n",
    "print(df_train.columns)\n",
    "# print(df_train.Age)\n",
    "df_test.info()\n",
    "print(df_test.columns)"
   ]
  },
  {
   "cell_type": "code",
   "execution_count": 7,
   "id": "262fe5c5",
   "metadata": {},
   "outputs": [
    {
     "name": "stdout",
     "output_type": "stream",
     "text": [
      "PassengerId     0.000000\n",
      "Survived        0.000000\n",
      "Pclass          0.000000\n",
      "Name            0.000000\n",
      "Sex             0.000000\n",
      "Age            19.865320\n",
      "SibSp           0.000000\n",
      "Parch           0.000000\n",
      "Ticket          0.000000\n",
      "Fare            0.000000\n",
      "Cabin          77.104377\n",
      "Embarked        0.224467\n",
      "dtype: float64\n",
      "缺失值统计：\n",
      "          缺失值数量       缺失比例\n",
      "Cabin       687  77.104377\n",
      "Age         177  19.865320\n",
      "Embarked      2   0.224467\n"
     ]
    }
   ],
   "source": [
    "missing = df_train.isnull().sum()\n",
    "# print(missing)\n",
    "missing_percentage = (missing / len(df_train)) * 100\n",
    "print(missing_percentage)\n",
    "\n",
    "# 筛选出有缺失值的列\n",
    "missing_data = pd.DataFrame({'缺失值数量': missing, '缺失比例': missing_percentage})\n",
    "missing_data=missing_data[missing_data['缺失值数量']>0].sort_values(by='缺失比例',ascending=False)\n",
    "\n",
    "print(\"缺失值统计：\")\n",
    "print(missing_data)\n",
    "\n",
    "# plt.figure(figsize=(10, 6))\n",
    "# sns.heatmap(df.isnull(), yticklabels=False, cbar=False, cmap='viridis')\n",
    "# plt.title('缺失值分布图')\n",
    "# plt.show()\n",
    "\n",
    "\n",
    "df_train['Cabin'] = df_train['Cabin'].fillna('Missing')\n",
    "\n"
   ]
  },
  {
   "cell_type": "code",
   "execution_count": 8,
   "id": "fa9a5c66",
   "metadata": {},
   "outputs": [
    {
     "name": "stdout",
     "output_type": "stream",
     "text": [
      "0        Mr\n",
      "1       Mrs\n",
      "2      Miss\n",
      "3       Mrs\n",
      "4        Mr\n",
      "       ... \n",
      "886     Rev\n",
      "887    Miss\n",
      "888    Miss\n",
      "889      Mr\n",
      "890      Mr\n",
      "Name: Title, Length: 891, dtype: object\n",
      "0      Missing\n",
      "1          C85\n",
      "2      Missing\n",
      "3         C123\n",
      "4      Missing\n",
      "        ...   \n",
      "886    Missing\n",
      "887        B42\n",
      "888    Missing\n",
      "889       C148\n",
      "890    Missing\n",
      "Name: Cabin, Length: 891, dtype: object\n"
     ]
    }
   ],
   "source": [
    "\n",
    "# 从Name列中提取头衔(Title)，例如\"Mr.\", \"Mrs.\", \"Dr.\"等\n",
    "df_train['Title'] = df_train['Name'].str.extract(' ([A-Za-z]+)\\.', expand=False)\n",
    "print(df_train['Title'])\n",
    "# 计算每个头衔对应的年龄中位数\n",
    "title_age_median = df_train.groupby('Title')['Age'].median()\n",
    "# print(title_age_median)\n",
    "\n",
    "# 填充函数\n",
    "def fill_age(row):\n",
    "    if pd.isnull(row['Age']):\n",
    "        return title_age_median[row['Title']]\n",
    "    return row['Age']\n",
    "\n",
    "df_train['Age'] = df_train.apply(fill_age, axis=1)#按行操作\n",
    "\n",
    "\n",
    "df_train['Cabin']=df_train['Cabin'].fillna('Missing')\n",
    "print(df_train['Cabin'])\n",
    "df_train['Embarked']=df_train['Embarked'].fillna(df_train['Embarked'].mode()[0])\n",
    "# print(df_train['Embarked'])"
   ]
  },
  {
   "cell_type": "code",
   "execution_count": 9,
   "id": "3b97fa10",
   "metadata": {},
   "outputs": [
    {
     "name": "stdout",
     "output_type": "stream",
     "text": [
      "   PassengerId  Survived  Pclass  \\\n",
      "0            1         0       3   \n",
      "1            2         1       1   \n",
      "2            3         1       3   \n",
      "3            4         1       1   \n",
      "4            5         0       3   \n",
      "\n",
      "                                                Name     Sex   Age  SibSp  \\\n",
      "0                            Braund, Mr. Owen Harris    male  22.0      1   \n",
      "1  Cumings, Mrs. John Bradley (Florence Briggs Th...  female  38.0      1   \n",
      "2                             Heikkinen, Miss. Laina  female  26.0      0   \n",
      "3       Futrelle, Mrs. Jacques Heath (Lily May Peel)  female  35.0      1   \n",
      "4                           Allen, Mr. William Henry    male  35.0      0   \n",
      "\n",
      "   Parch            Ticket     Fare    Cabin Embarked Title  \n",
      "0      0         A/5 21171   7.2500  Missing        S    Mr  \n",
      "1      0          PC 17599  71.2833      C85        C   Mrs  \n",
      "2      0  STON/O2. 3101282   7.9250  Missing        S  Miss  \n",
      "3      0            113803  53.1000     C123        S   Mrs  \n",
      "4      0            373450   8.0500  Missing        S    Mr  \n"
     ]
    },
    {
     "data": {
      "text/html": [
       "<div>\n",
       "<style scoped>\n",
       "    .dataframe tbody tr th:only-of-type {\n",
       "        vertical-align: middle;\n",
       "    }\n",
       "\n",
       "    .dataframe tbody tr th {\n",
       "        vertical-align: top;\n",
       "    }\n",
       "\n",
       "    .dataframe thead th {\n",
       "        text-align: right;\n",
       "    }\n",
       "</style>\n",
       "<table border=\"1\" class=\"dataframe\">\n",
       "  <thead>\n",
       "    <tr style=\"text-align: right;\">\n",
       "      <th></th>\n",
       "      <th>Survived</th>\n",
       "      <th>Pclass</th>\n",
       "      <th>Name</th>\n",
       "      <th>Sex</th>\n",
       "      <th>Age</th>\n",
       "      <th>SibSp</th>\n",
       "      <th>Parch</th>\n",
       "      <th>Ticket</th>\n",
       "      <th>Fare</th>\n",
       "      <th>Cabin</th>\n",
       "      <th>Embarked</th>\n",
       "      <th>Title</th>\n",
       "    </tr>\n",
       "  </thead>\n",
       "  <tbody>\n",
       "    <tr>\n",
       "      <th>0</th>\n",
       "      <td>0</td>\n",
       "      <td>3</td>\n",
       "      <td>Braund, Mr. Owen Harris</td>\n",
       "      <td>male</td>\n",
       "      <td>22.0</td>\n",
       "      <td>1</td>\n",
       "      <td>0</td>\n",
       "      <td>A/5 21171</td>\n",
       "      <td>7.2500</td>\n",
       "      <td>Missing</td>\n",
       "      <td>S</td>\n",
       "      <td>Mr</td>\n",
       "    </tr>\n",
       "    <tr>\n",
       "      <th>1</th>\n",
       "      <td>1</td>\n",
       "      <td>1</td>\n",
       "      <td>Cumings, Mrs. John Bradley (Florence Briggs Th...</td>\n",
       "      <td>female</td>\n",
       "      <td>38.0</td>\n",
       "      <td>1</td>\n",
       "      <td>0</td>\n",
       "      <td>PC 17599</td>\n",
       "      <td>71.2833</td>\n",
       "      <td>C85</td>\n",
       "      <td>C</td>\n",
       "      <td>Mrs</td>\n",
       "    </tr>\n",
       "    <tr>\n",
       "      <th>2</th>\n",
       "      <td>1</td>\n",
       "      <td>3</td>\n",
       "      <td>Heikkinen, Miss. Laina</td>\n",
       "      <td>female</td>\n",
       "      <td>26.0</td>\n",
       "      <td>0</td>\n",
       "      <td>0</td>\n",
       "      <td>STON/O2. 3101282</td>\n",
       "      <td>7.9250</td>\n",
       "      <td>Missing</td>\n",
       "      <td>S</td>\n",
       "      <td>Miss</td>\n",
       "    </tr>\n",
       "    <tr>\n",
       "      <th>3</th>\n",
       "      <td>1</td>\n",
       "      <td>1</td>\n",
       "      <td>Futrelle, Mrs. Jacques Heath (Lily May Peel)</td>\n",
       "      <td>female</td>\n",
       "      <td>35.0</td>\n",
       "      <td>1</td>\n",
       "      <td>0</td>\n",
       "      <td>113803</td>\n",
       "      <td>53.1000</td>\n",
       "      <td>C123</td>\n",
       "      <td>S</td>\n",
       "      <td>Mrs</td>\n",
       "    </tr>\n",
       "    <tr>\n",
       "      <th>4</th>\n",
       "      <td>0</td>\n",
       "      <td>3</td>\n",
       "      <td>Allen, Mr. William Henry</td>\n",
       "      <td>male</td>\n",
       "      <td>35.0</td>\n",
       "      <td>0</td>\n",
       "      <td>0</td>\n",
       "      <td>373450</td>\n",
       "      <td>8.0500</td>\n",
       "      <td>Missing</td>\n",
       "      <td>S</td>\n",
       "      <td>Mr</td>\n",
       "    </tr>\n",
       "  </tbody>\n",
       "</table>\n",
       "</div>"
      ],
      "text/plain": [
       "   Survived  Pclass                                               Name  \\\n",
       "0         0       3                            Braund, Mr. Owen Harris   \n",
       "1         1       1  Cumings, Mrs. John Bradley (Florence Briggs Th...   \n",
       "2         1       3                             Heikkinen, Miss. Laina   \n",
       "3         1       1       Futrelle, Mrs. Jacques Heath (Lily May Peel)   \n",
       "4         0       3                           Allen, Mr. William Henry   \n",
       "\n",
       "      Sex   Age  SibSp  Parch            Ticket     Fare    Cabin Embarked  \\\n",
       "0    male  22.0      1      0         A/5 21171   7.2500  Missing        S   \n",
       "1  female  38.0      1      0          PC 17599  71.2833      C85        C   \n",
       "2  female  26.0      0      0  STON/O2. 3101282   7.9250  Missing        S   \n",
       "3  female  35.0      1      0            113803  53.1000     C123        S   \n",
       "4    male  35.0      0      0            373450   8.0500  Missing        S   \n",
       "\n",
       "  Title  \n",
       "0    Mr  \n",
       "1   Mrs  \n",
       "2  Miss  \n",
       "3   Mrs  \n",
       "4    Mr  "
      ]
     },
     "execution_count": 9,
     "metadata": {},
     "output_type": "execute_result"
    }
   ],
   "source": [
    "print(df_train.iloc[0:5,:])\n",
    "df_train=df_train.drop('PassengerId',axis=1)\n",
    "df_train.iloc[0:5,:]\n"
   ]
  },
  {
   "cell_type": "code",
   "execution_count": 10,
   "id": "92bd7a1a",
   "metadata": {},
   "outputs": [
    {
     "data": {
      "image/png": "[encoded data removed]",
      "text/plain": [
       "<Figure size 1000x400 with 2 Axes>"
      ]
     },
     "metadata": {},
     "output_type": "display_data"
    }
   ],
   "source": [
    "man=df_train[df_train['Sex']=='male'].loc[:,['Survived','Age']]\n",
    "woman=df_train[df_train['Sex']=='female'].loc[:,['Survived','Age']]\n",
    "\n",
    "# 创建 1 行 2 列的子图\n",
    "fig, axes = plt.subplots(nrows=1, ncols=2, figsize=(10, 4))\n",
    "\n",
    "# 绘制男性存活者的年龄分布\n",
    "ax = sns.histplot(man[man['Survived'] == 1].Age,\n",
    "                  label='Survived', ax=axes[0], kde=False)\n",
    "ax.set_title('Male')\n",
    "\n",
    "# 绘制女性存活者的年龄分布\n",
    "_ax = sns.histplot(woman[woman['Survived'] == 1].Age,\n",
    "                   label='Survived', ax=axes[1], kde=False)\n",
    "_ax.set_title('Female')\n",
    "\n",
    "plt.show()\n",
    "\n",
    "\n"
   ]
  },
  {
   "cell_type": "code",
   "execution_count": 11,
   "id": "658cae51",
   "metadata": {},
   "outputs": [
    {
     "name": "stdout",
     "output_type": "stream",
     "text": [
      "Index(['Survived', 'Pclass', 'Name', 'Sex', 'Age', 'SibSp', 'Parch', 'Ticket',\n",
      "       'Fare', 'Cabin', 'Embarked', 'Title'],\n",
      "      dtype='object')\n",
      "['Survived', 'Pclass', 'Name', 'Sex', 'Age', 'SibSp', 'Parch', 'Ticket', 'Fare', 'Cabin', 'Embarked', 'Title']\n",
      "   Survived  Pclass     Sex   Age  SibSp  Parch            Ticket     Fare  \\\n",
      "0         0       3    male  22.0      1      0         A/5 21171   7.2500   \n",
      "1         1       1  female  38.0      1      0          PC 17599  71.2833   \n",
      "2         1       3  female  26.0      0      0  STON/O2. 3101282   7.9250   \n",
      "3         1       1  female  35.0      1      0            113803  53.1000   \n",
      "4         0       3    male  35.0      0      0            373450   8.0500   \n",
      "\n",
      "  Embarked Title  \n",
      "0        S    Mr  \n",
      "1        C   Mrs  \n",
      "2        S  Miss  \n",
      "3        S   Mrs  \n",
      "4        S    Mr  \n"
     ]
    }
   ],
   "source": [
    "print(df_train.columns)\n",
    "print(df_train.columns.tolist())\n",
    "df_train.drop('Cabin',axis=1,inplace=True)\n",
    "df_train.drop('Name',axis=1,inplace=True)\n",
    "\n",
    "df_test.drop('Cabin',axis=1,inplace=True)\n",
    "df_test.drop('Name',axis=1,inplace=True)\n",
    "\n",
    "print(df_train.head())"
   ]
  },
  {
   "cell_type": "code",
   "execution_count": 12,
   "id": "55fcba2d",
   "metadata": {},
   "outputs": [],
   "source": [
    "df_train=df_train.drop('Ticket',axis=1)"
   ]
  },
  {
   "cell_type": "code",
   "execution_count": 13,
   "id": "6fca8802",
   "metadata": {},
   "outputs": [
    {
     "data": {
      "text/html": [
       "<div>\n",
       "<style scoped>\n",
       "    .dataframe tbody tr th:only-of-type {\n",
       "        vertical-align: middle;\n",
       "    }\n",
       "\n",
       "    .dataframe tbody tr th {\n",
       "        vertical-align: top;\n",
       "    }\n",
       "\n",
       "    .dataframe thead th {\n",
       "        text-align: right;\n",
       "    }\n",
       "</style>\n",
       "<table border=\"1\" class=\"dataframe\">\n",
       "  <thead>\n",
       "    <tr style=\"text-align: right;\">\n",
       "      <th></th>\n",
       "      <th>Survived</th>\n",
       "      <th>Pclass</th>\n",
       "      <th>Sex</th>\n",
       "      <th>Age</th>\n",
       "      <th>SibSp</th>\n",
       "      <th>Parch</th>\n",
       "      <th>Fare</th>\n",
       "      <th>Embarked</th>\n",
       "    </tr>\n",
       "  </thead>\n",
       "  <tbody>\n",
       "    <tr>\n",
       "      <th>0</th>\n",
       "      <td>0</td>\n",
       "      <td>3</td>\n",
       "      <td>male</td>\n",
       "      <td>22.0</td>\n",
       "      <td>1</td>\n",
       "      <td>0</td>\n",
       "      <td>7.2500</td>\n",
       "      <td>S</td>\n",
       "    </tr>\n",
       "    <tr>\n",
       "      <th>1</th>\n",
       "      <td>1</td>\n",
       "      <td>1</td>\n",
       "      <td>female</td>\n",
       "      <td>38.0</td>\n",
       "      <td>1</td>\n",
       "      <td>0</td>\n",
       "      <td>71.2833</td>\n",
       "      <td>C</td>\n",
       "    </tr>\n",
       "    <tr>\n",
       "      <th>2</th>\n",
       "      <td>1</td>\n",
       "      <td>3</td>\n",
       "      <td>female</td>\n",
       "      <td>26.0</td>\n",
       "      <td>0</td>\n",
       "      <td>0</td>\n",
       "      <td>7.9250</td>\n",
       "      <td>S</td>\n",
       "    </tr>\n",
       "    <tr>\n",
       "      <th>3</th>\n",
       "      <td>1</td>\n",
       "      <td>1</td>\n",
       "      <td>female</td>\n",
       "      <td>35.0</td>\n",
       "      <td>1</td>\n",
       "      <td>0</td>\n",
       "      <td>53.1000</td>\n",
       "      <td>S</td>\n",
       "    </tr>\n",
       "    <tr>\n",
       "      <th>4</th>\n",
       "      <td>0</td>\n",
       "      <td>3</td>\n",
       "      <td>male</td>\n",
       "      <td>35.0</td>\n",
       "      <td>0</td>\n",
       "      <td>0</td>\n",
       "      <td>8.0500</td>\n",
       "      <td>S</td>\n",
       "    </tr>\n",
       "  </tbody>\n",
       "</table>\n",
       "</div>"
      ],
      "text/plain": [
       "   Survived  Pclass     Sex   Age  SibSp  Parch     Fare Embarked\n",
       "0         0       3    male  22.0      1      0   7.2500        S\n",
       "1         1       1  female  38.0      1      0  71.2833        C\n",
       "2         1       3  female  26.0      0      0   7.9250        S\n",
       "3         1       1  female  35.0      1      0  53.1000        S\n",
       "4         0       3    male  35.0      0      0   8.0500        S"
      ]
     },
     "execution_count": 13,
     "metadata": {},
     "output_type": "execute_result"
    }
   ],
   "source": [
    "df_train=df_train.drop('Title',axis=1)\n",
    "df_train.head()"
   ]
  },
  {
   "cell_type": "code",
   "execution_count": 14,
   "id": "73c48811",
   "metadata": {},
   "outputs": [
    {
     "name": "stdout",
     "output_type": "stream",
     "text": [
      "     C  Q  S\n",
      "0    0  0  1\n",
      "1    1  0  0\n",
      "2    0  0  1\n",
      "3    0  0  1\n",
      "4    0  0  1\n",
      "..  .. .. ..\n",
      "886  0  0  1\n",
      "887  0  0  1\n",
      "888  0  0  1\n",
      "889  1  0  0\n",
      "890  0  1  0\n",
      "\n",
      "[891 rows x 3 columns]\n"
     ]
    }
   ],
   "source": [
    "embark_data=pd.get_dummies(df_train['Embarked']).astype(int)\n",
    "print(embark_data)"
   ]
  },
  {
   "cell_type": "code",
   "execution_count": 49,
   "id": "a8b2be0d",
   "metadata": {},
   "outputs": [
    {
     "ename": "KeyError",
     "evalue": "'Embarked'",
     "output_type": "error",
     "traceback": [
      "\u001b[1;31m---------------------------------------------------------------------------\u001b[0m",
      "\u001b[1;31mKeyError\u001b[0m                                  Traceback (most recent call last)",
      "File \u001b[1;32md:\\anaconda\\envs\\DL\\lib\\site-packages\\pandas\\core\\indexes\\base.py:3805\u001b[0m, in \u001b[0;36mIndex.get_loc\u001b[1;34m(self, key)\u001b[0m\n\u001b[0;32m   3804\u001b[0m \u001b[38;5;28;01mtry\u001b[39;00m:\n\u001b[1;32m-> 3805\u001b[0m     \u001b[38;5;28;01mreturn\u001b[39;00m \u001b[38;5;28;43mself\u001b[39;49m\u001b[38;5;241;43m.\u001b[39;49m\u001b[43m_engine\u001b[49m\u001b[38;5;241;43m.\u001b[39;49m\u001b[43mget_loc\u001b[49m\u001b[43m(\u001b[49m\u001b[43mcasted_key\u001b[49m\u001b[43m)\u001b[49m\n\u001b[0;32m   3806\u001b[0m \u001b[38;5;28;01mexcept\u001b[39;00m \u001b[38;5;167;01mKeyError\u001b[39;00m \u001b[38;5;28;01mas\u001b[39;00m err:\n",
      "File \u001b[1;32mindex.pyx:167\u001b[0m, in \u001b[0;36mpandas._libs.index.IndexEngine.get_loc\u001b[1;34m()\u001b[0m\n",
      "File \u001b[1;32mindex.pyx:196\u001b[0m, in \u001b[0;36mpandas._libs.index.IndexEngine.get_loc\u001b[1;34m()\u001b[0m\n",
      "File \u001b[1;32mpandas\\\\_libs\\\\hashtable_class_helper.pxi:7081\u001b[0m, in \u001b[0;36mpandas._libs.hashtable.PyObjectHashTable.get_item\u001b[1;34m()\u001b[0m\n",
      "File \u001b[1;32mpandas\\\\_libs\\\\hashtable_class_helper.pxi:7089\u001b[0m, in \u001b[0;36mpandas._libs.hashtable.PyObjectHashTable.get_item\u001b[1;34m()\u001b[0m\n",
      "\u001b[1;31mKeyError\u001b[0m: 'Embarked'",
      "\nThe above exception was the direct cause of the following exception:\n",
      "\u001b[1;31mKeyError\u001b[0m                                  Traceback (most recent call last)",
      "Cell \u001b[1;32mIn[49], line 17\u001b[0m\n\u001b[0;32m     14\u001b[0m     data\u001b[38;5;241m.\u001b[39mdrop(\u001b[38;5;124m'\u001b[39m\u001b[38;5;124mParch\u001b[39m\u001b[38;5;124m'\u001b[39m,inplace\u001b[38;5;241m=\u001b[39m\u001b[38;5;28;01mTrue\u001b[39;00m,axis\u001b[38;5;241m=\u001b[39m\u001b[38;5;241m1\u001b[39m)\n\u001b[0;32m     15\u001b[0m     \u001b[38;5;28;01mreturn\u001b[39;00m data\n\u001b[1;32m---> 17\u001b[0m df_train\u001b[38;5;241m=\u001b[39m\u001b[43mdata_process\u001b[49m\u001b[43m(\u001b[49m\u001b[43mdf_train\u001b[49m\u001b[43m)\u001b[49m\n\u001b[0;32m     18\u001b[0m \u001b[38;5;28mprint\u001b[39m(df_train\u001b[38;5;241m.\u001b[39mhead())\n\u001b[0;32m     21\u001b[0m df_train\u001b[38;5;241m.\u001b[39mto_csv(\u001b[38;5;124m'\u001b[39m\u001b[38;5;124mdata_processed.csv\u001b[39m\u001b[38;5;124m'\u001b[39m)\n",
      "Cell \u001b[1;32mIn[49], line 2\u001b[0m, in \u001b[0;36mdata_process\u001b[1;34m(data)\u001b[0m\n\u001b[0;32m      1\u001b[0m \u001b[38;5;28;01mdef\u001b[39;00m\u001b[38;5;250m \u001b[39m\u001b[38;5;21mdata_process\u001b[39m(data):\n\u001b[1;32m----> 2\u001b[0m     embark_data\u001b[38;5;241m=\u001b[39mpd\u001b[38;5;241m.\u001b[39mget_dummies(\u001b[43mdata\u001b[49m\u001b[43m[\u001b[49m\u001b[38;5;124;43m'\u001b[39;49m\u001b[38;5;124;43mEmbarked\u001b[39;49m\u001b[38;5;124;43m'\u001b[39;49m\u001b[43m]\u001b[49m)\u001b[38;5;241m.\u001b[39mastype(\u001b[38;5;28mint\u001b[39m)\n\u001b[0;32m      3\u001b[0m     data\u001b[38;5;241m=\u001b[39mpd\u001b[38;5;241m.\u001b[39mconcat([data,embark_data],axis\u001b[38;5;241m=\u001b[39m\u001b[38;5;241m1\u001b[39m)\n\u001b[0;32m      4\u001b[0m     data\u001b[38;5;241m.\u001b[39mdrop(\u001b[38;5;124m'\u001b[39m\u001b[38;5;124mEmbarked\u001b[39m\u001b[38;5;124m'\u001b[39m,inplace\u001b[38;5;241m=\u001b[39m\u001b[38;5;28;01mTrue\u001b[39;00m,axis\u001b[38;5;241m=\u001b[39m\u001b[38;5;241m1\u001b[39m)\n",
      "File \u001b[1;32md:\\anaconda\\envs\\DL\\lib\\site-packages\\pandas\\core\\frame.py:4102\u001b[0m, in \u001b[0;36mDataFrame.__getitem__\u001b[1;34m(self, key)\u001b[0m\n\u001b[0;32m   4100\u001b[0m \u001b[38;5;28;01mif\u001b[39;00m \u001b[38;5;28mself\u001b[39m\u001b[38;5;241m.\u001b[39mcolumns\u001b[38;5;241m.\u001b[39mnlevels \u001b[38;5;241m>\u001b[39m \u001b[38;5;241m1\u001b[39m:\n\u001b[0;32m   4101\u001b[0m     \u001b[38;5;28;01mreturn\u001b[39;00m \u001b[38;5;28mself\u001b[39m\u001b[38;5;241m.\u001b[39m_getitem_multilevel(key)\n\u001b[1;32m-> 4102\u001b[0m indexer \u001b[38;5;241m=\u001b[39m \u001b[38;5;28;43mself\u001b[39;49m\u001b[38;5;241;43m.\u001b[39;49m\u001b[43mcolumns\u001b[49m\u001b[38;5;241;43m.\u001b[39;49m\u001b[43mget_loc\u001b[49m\u001b[43m(\u001b[49m\u001b[43mkey\u001b[49m\u001b[43m)\u001b[49m\n\u001b[0;32m   4103\u001b[0m \u001b[38;5;28;01mif\u001b[39;00m is_integer(indexer):\n\u001b[0;32m   4104\u001b[0m     indexer \u001b[38;5;241m=\u001b[39m [indexer]\n",
      "File \u001b[1;32md:\\anaconda\\envs\\DL\\lib\\site-packages\\pandas\\core\\indexes\\base.py:3812\u001b[0m, in \u001b[0;36mIndex.get_loc\u001b[1;34m(self, key)\u001b[0m\n\u001b[0;32m   3807\u001b[0m     \u001b[38;5;28;01mif\u001b[39;00m \u001b[38;5;28misinstance\u001b[39m(casted_key, \u001b[38;5;28mslice\u001b[39m) \u001b[38;5;129;01mor\u001b[39;00m (\n\u001b[0;32m   3808\u001b[0m         \u001b[38;5;28misinstance\u001b[39m(casted_key, abc\u001b[38;5;241m.\u001b[39mIterable)\n\u001b[0;32m   3809\u001b[0m         \u001b[38;5;129;01mand\u001b[39;00m \u001b[38;5;28many\u001b[39m(\u001b[38;5;28misinstance\u001b[39m(x, \u001b[38;5;28mslice\u001b[39m) \u001b[38;5;28;01mfor\u001b[39;00m x \u001b[38;5;129;01min\u001b[39;00m casted_key)\n\u001b[0;32m   3810\u001b[0m     ):\n\u001b[0;32m   3811\u001b[0m         \u001b[38;5;28;01mraise\u001b[39;00m InvalidIndexError(key)\n\u001b[1;32m-> 3812\u001b[0m     \u001b[38;5;28;01mraise\u001b[39;00m \u001b[38;5;167;01mKeyError\u001b[39;00m(key) \u001b[38;5;28;01mfrom\u001b[39;00m\u001b[38;5;250m \u001b[39m\u001b[38;5;21;01merr\u001b[39;00m\n\u001b[0;32m   3813\u001b[0m \u001b[38;5;28;01mexcept\u001b[39;00m \u001b[38;5;167;01mTypeError\u001b[39;00m:\n\u001b[0;32m   3814\u001b[0m     \u001b[38;5;66;03m# If we have a listlike key, _check_indexing_error will raise\u001b[39;00m\n\u001b[0;32m   3815\u001b[0m     \u001b[38;5;66;03m#  InvalidIndexError. Otherwise we fall through and re-raise\u001b[39;00m\n\u001b[0;32m   3816\u001b[0m     \u001b[38;5;66;03m#  the TypeError.\u001b[39;00m\n\u001b[0;32m   3817\u001b[0m     \u001b[38;5;28mself\u001b[39m\u001b[38;5;241m.\u001b[39m_check_indexing_error(key)\n",
      "\u001b[1;31mKeyError\u001b[0m: 'Embarked'"
     ]
    }
   ],
   "source": [
    "def data_process(data):\n",
    "    embark_data=pd.get_dummies(data['Embarked']).astype(int)\n",
    "    data=pd.concat([data,embark_data],axis=1)\n",
    "    data.drop('Embarked',inplace=True,axis=1)\n",
    "\n",
    "    data['Age']=(data['Age']-data['Age'].min())/(data['Age'].max()-data['Age'].min())\n",
    "\n",
    "\n",
    "    data['Fare']=(data['Fare']-data['Fare'].min())/(data['Fare'].max(-data['Fare'].min()))\n",
    "    gender={'female':0,'male':1}\n",
    "    data['Sex']=data['Sex'].map(gender)\n",
    "    data['Size']=data['SibSp']+data['Parch']+1\n",
    "    data.drop('SibSp',inplace=True,axis=1)\n",
    "    data.drop('Parch',inplace=True,axis=1)\n",
    "    return data\n",
    "\n",
    "df_train=data_process(df_train)\n",
    "print(df_train.head())\n",
    "\n",
    "\n",
    "df_train.to_csv('data_processed.csv')"
   ]
  },
  {
   "cell_type": "code",
   "execution_count": 47,
   "id": "c9894ad0",
   "metadata": {},
   "outputs": [
    {
     "name": "stdout",
     "output_type": "stream",
     "text": [
      "114    0\n",
      "874    1\n",
      "76     0\n",
      "876    0\n",
      "674    0\n",
      "      ..\n",
      "715    0\n",
      "767    0\n",
      "72     0\n",
      "235    0\n",
      "37     0\n",
      "Name: Survived, Length: 623, dtype: int64\n"
     ]
    }
   ],
   "source": [
    "from sklearn.model_selection import train_test_split\n",
    "label_train = df_train.loc[:, 'Survived']\n",
    "data_train = df_train.drop(columns=['Survived'])\n",
    "\n",
    "x_train,x_test,y_train,y_test=train_test_split(data_train,label_train,random_state=1,train_size=0.7)\n",
    "print(y_train)"
   ]
  },
  {
   "cell_type": "code",
   "execution_count": 19,
   "id": "b60f88c1",
   "metadata": {},
   "outputs": [
    {
     "name": "stdout",
     "output_type": "stream",
     "text": [
      "0.7877094972067039\n",
      "     Pclass  Sex       Age      Fare  C  Q  S  Size\n",
      "301       3    1  0.371701  0.045381  0  1  0     3\n",
      "309       1    0  0.371701  0.111118  1  0  0     1\n",
      "516       2    0  0.421965  0.020495  0  0  1     1\n",
      "120       2    1  0.258608  0.143462  0  0  1     3\n",
      "570       2    1  0.773813  0.020495  0  0  1     1\n",
      "[1]\n"
     ]
    },
    {
     "name": "stderr",
     "output_type": "stream",
     "text": [
      "d:\\anaconda\\envs\\DL\\lib\\site-packages\\sklearn\\utils\\validation.py:2739: UserWarning: X does not have valid feature names, but SVC was fitted with feature names\n",
      "  warnings.warn(\n"
     ]
    }
   ],
   "source": [
    "from sklearn import svm\n",
    "\n",
    "model = svm.SVC(kernel='rbf',                      # 核函数\n",
    "               gamma=0.1,\n",
    "             decision_function_shape='ovo',     \n",
    "              C=1)\n",
    "model.fit(x_train, y_train)    \n",
    "\n",
    "print(model.score(x_test, y_test)) \n",
    "print(x_train.head())   \n",
    "my_data1={'Pclass':1,'Sex':0,'Age':0.34,'SibSp':1,'Parch':2,'Fare':0.15,'C':1,\"Q\":0,'S':0}\n",
    "my_data2=[[1,0,0.34,0.15,1,0,0,2]]\n",
    "y_train_hat=model.predict(my_data2)\n",
    "print(y_train_hat)"
   ]
  },
  {
   "cell_type": "code",
   "execution_count": 48,
   "id": "d105627a",
   "metadata": {},
   "outputs": [
    {
     "name": "stdout",
     "output_type": "stream",
     "text": [
      "0.753731343283582\n",
      "[1]\n"
     ]
    },
    {
     "name": "stderr",
     "output_type": "stream",
     "text": [
      "d:\\anaconda\\envs\\DL\\lib\\site-packages\\sklearn\\utils\\validation.py:2739: UserWarning: X does not have valid feature names, but RandomForestClassifier was fitted with feature names\n",
      "  warnings.warn(\n"
     ]
    },
    {
     "name": "stdout",
     "output_type": "stream",
     "text": [
      "{'max_depth': None, 'min_samples_split': 10, 'n_estimators': 200}\n",
      "0.7910447761194029\n"
     ]
    }
   ],
   "source": [
    "from sklearn.ensemble import RandomForestClassifier\n",
    "from sklearn import tree\n",
    "from sklearn.model_selection import GridSearchCV\n",
    "\n",
    "RF = RandomForestClassifier(n_estimators=200,)\n",
    "RF.fit(x_train, y_train)\n",
    "print(RF.score(x_test,y_test))\n",
    "# RF.score(x_test, y_test)\n",
    "y_train_hat=RF.predict(my_data2)\n",
    "print(y_train_hat)\n",
    "\n",
    "# 定义参数网格\n",
    "param_grid = {\n",
    "    'n_estimators': [50, 100, 150,200],\n",
    "    'max_depth': [None, 10, 20,30],\n",
    "    'min_samples_split': [2, 5,10,20]\n",
    "}\n",
    "\n",
    "# 创建GridSearchCV对象\n",
    "grid_search = GridSearchCV(\n",
    "    estimator=RF,\n",
    "    param_grid=param_grid,\n",
    "    cv=5,                 # 5折交叉验证\n",
    "    scoring='accuracy',   # 评估指标为准确率\n",
    "    n_jobs=-1             # 使用所有CPU核\n",
    ")\n",
    "\n",
    "# 执行网格搜索\n",
    "better_RF=grid_search.fit(x_train, y_train)\n",
    "print(better_RF.best_params_)\n",
    "print(better_RF.score(x_test,y_test))"
   ]
  },
  {
   "cell_type": "code",
   "execution_count": 44,
   "id": "e9e1cb3a",
   "metadata": {},
   "outputs": [
    {
     "name": "stdout",
     "output_type": "stream",
     "text": [
      "[[434   9]\n",
      " [ 41 228]]\n"
     ]
    }
   ],
   "source": [
    "from sklearn.metrics import confusion_matrix, classification_report\n",
    "\n",
    "pred_RFC = better_RF.predict(x_train)\n",
    "\n",
    "# 混淆矩阵\n",
    "print(confusion_matrix(y_train, pred_RFC))\n"
   ]
  },
  {
   "cell_type": "code",
   "execution_count": 45,
   "id": "403740cc",
   "metadata": {},
   "outputs": [
    {
     "name": "stdout",
     "output_type": "stream",
     "text": [
      "              precision    recall  f1-score   support\n",
      "\n",
      "           0       0.91      0.98      0.95       443\n",
      "           1       0.96      0.85      0.90       269\n",
      "\n",
      "    accuracy                           0.93       712\n",
      "   macro avg       0.94      0.91      0.92       712\n",
      "weighted avg       0.93      0.93      0.93       712\n",
      "\n"
     ]
    }
   ],
   "source": [
    "print(classification_report(y_train, pred_RFC))"
   ]
  },
  {
   "cell_type": "code",
   "execution_count": 46,
   "id": "af5c4bde",
   "metadata": {},
   "outputs": [
    {
     "name": "stdout",
     "output_type": "stream",
     "text": [
      "{'Pclass': 0.08925449553666402, 'Sex': 0.2503363256297548, 'Age': 0.2746043817941959, 'Fare': 0.2685041192724406, 'Embarked_C': 0.01161475481350288, 'Embarked_Q': 0.009240101414894345, 'Embarked_S': 0.014207244380407548, 'Size': 0.0822385771581399}\n",
      "Pclass的重要性为：8.925449553666402%\n",
      "Sex的重要性为：25.033632562975477%\n",
      "Age的重要性为：27.46043817941959%\n",
      "Fare的重要性为：26.85041192724406%\n",
      "Embarked_C的重要性为：1.1614754813502879%\n",
      "Embarked_Q的重要性为：0.9240101414894345%\n",
      "Embarked_S的重要性为：1.4207244380407549%\n",
      "Size的重要性为：8.22385771581399%\n"
     ]
    }
   ],
   "source": [
    "keys = ['Pclass', 'Sex', 'Age','Fare', 'Embarked_C', 'Embarked_Q', 'Embarked_S','Size']\n",
    "values = RF.feature_importances_\n",
    "my_dic=dict(zip(keys,values))\n",
    "print(my_dic)\n",
    "for i,j in my_dic.items():\n",
    "    print(f'{i}的重要性为：{j*100}%')\n",
    "\n"
   ]
  },
  {
   "cell_type": "code",
   "execution_count": null,
   "id": "0f689dfa",
   "metadata": {},
   "outputs": [],
   "source": []
  },
  {
   "cell_type": "code",
   "execution_count": null,
   "id": "79e216b3",
   "metadata": {},
   "outputs": [],
   "source": [
    "# # 数据转换\n",
    "# df['col1'] = df['col1'].astype(float)  # 类型转换\n",
    "# df['col3'] = df['col1'] + df['col2']  # 列计算\n",
    "# df['col4'] = df['col1'].apply(lambda x: x * 2)  # 自定义计算"
   ]
  },
  {
   "cell_type": "code",
   "execution_count": null,
   "id": "dbddd1f8",
   "metadata": {},
   "outputs": [],
   "source": [
    "import pandas as pd\n",
    "import numpy as np\n",
    "\n",
    "# 创建示例数据\n",
    "data = {\n",
    "    'Category': ['A', 'B', 'A', 'B', 'A', 'B'],\n",
    "    'Value': [10, 20, 15, np.nan, 25, 30],\n",
    "    'Count': [2, 4, 3, 1, 5, 2]\n",
    "}\n",
    "df = pd.DataFrame(data)\n",
    "print(df)\n",
    "# 1. 分组统计\n",
    "grouped = df.groupby('Category')\n",
    "print(\"各组平均值：\")\n",
    "print(grouped['Value'].mean())\n",
    "\n",
    "# 2. 填充缺失值\n",
    "df['Value'] = grouped['Value'].transform(lambda x: x.fillna(x.mean()))\n",
    "print(\"\\n填充缺失值后：\")\n",
    "print(df)\n",
    "\n",
    "# 3. 多函数聚合\n",
    "print(\"\\n多函数聚合：\")\n",
    "print(grouped.agg({'Value': ['mean', 'sum'], 'Count': 'max'}))\n",
    "\n",
    "# 4. 分组筛选\n",
    "filtered = grouped.filter(lambda x: x['Value'].sum() > 30)\n",
    "print(\"\\n筛选后的数据：\")\n",
    "print(filtered)"
   ]
  }
 ],
 "metadata": {
  "kernelspec": {
   "display_name": "DL",
   "language": "python",
   "name": "python3"
  },
  "language_info": {
   "codemirror_mode": {
    "name": "ipython",
    "version": 3
   },
   "file_extension": ".py",
   "mimetype": "text/x-python",
   "name": "python",
   "nbconvert_exporter": "python",
   "pygments_lexer": "ipython3",
   "version": "3.9.19"
  }
 },
 "nbformat": 4,
 "nbformat_minor": 5
}
